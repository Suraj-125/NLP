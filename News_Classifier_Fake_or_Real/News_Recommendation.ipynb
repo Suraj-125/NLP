{
 "cells": [
  {
   "cell_type": "code",
   "execution_count": 54,
   "id": "13440bf9-3961-42d9-bdbb-131481e4f784",
   "metadata": {},
   "outputs": [],
   "source": [
    "import numpy as np\n",
    "import pandas as pd\n",
    "import matplotlib.pyplot as plt\n",
    "import seaborn as sns\n",
    "\n",
    "import warnings\n",
    "warnings.simplefilter(\"ignore\")"
   ]
  },
  {
   "cell_type": "code",
   "execution_count": 55,
   "id": "1082b81e-70dc-4863-8ec4-691ab8970470",
   "metadata": {},
   "outputs": [
    {
     "data": {
      "text/html": [
       "<div>\n",
       "<style scoped>\n",
       "    .dataframe tbody tr th:only-of-type {\n",
       "        vertical-align: middle;\n",
       "    }\n",
       "\n",
       "    .dataframe tbody tr th {\n",
       "        vertical-align: top;\n",
       "    }\n",
       "\n",
       "    .dataframe thead th {\n",
       "        text-align: right;\n",
       "    }\n",
       "</style>\n",
       "<table border=\"1\" class=\"dataframe\">\n",
       "  <thead>\n",
       "    <tr style=\"text-align: right;\">\n",
       "      <th></th>\n",
       "      <th>Text</th>\n",
       "      <th>label</th>\n",
       "    </tr>\n",
       "  </thead>\n",
       "  <tbody>\n",
       "    <tr>\n",
       "      <th>0</th>\n",
       "      <td>WATCH: Bill Maher Hilariously Explains Why Tr...</td>\n",
       "      <td>Fake</td>\n",
       "    </tr>\n",
       "    <tr>\n",
       "      <th>1</th>\n",
       "      <td>China defends ally Pakistan after Trump critic...</td>\n",
       "      <td>Real</td>\n",
       "    </tr>\n",
       "    <tr>\n",
       "      <th>2</th>\n",
       "      <td>Trudeau Does What Trump Can’t, Calls Out Whit...</td>\n",
       "      <td>Fake</td>\n",
       "    </tr>\n",
       "    <tr>\n",
       "      <th>3</th>\n",
       "      <td>WATCH: Trump Crudely HUMILIATED A Woman Onsta...</td>\n",
       "      <td>Fake</td>\n",
       "    </tr>\n",
       "    <tr>\n",
       "      <th>4</th>\n",
       "      <td>U.S. lawmakers seek looser energy development ...</td>\n",
       "      <td>Real</td>\n",
       "    </tr>\n",
       "  </tbody>\n",
       "</table>\n",
       "</div>"
      ],
      "text/plain": [
       "                                                Text label\n",
       "0   WATCH: Bill Maher Hilariously Explains Why Tr...  Fake\n",
       "1  China defends ally Pakistan after Trump critic...  Real\n",
       "2   Trudeau Does What Trump Can’t, Calls Out Whit...  Fake\n",
       "3   WATCH: Trump Crudely HUMILIATED A Woman Onsta...  Fake\n",
       "4  U.S. lawmakers seek looser energy development ...  Real"
      ]
     },
     "execution_count": 55,
     "metadata": {},
     "output_type": "execute_result"
    }
   ],
   "source": [
    "df = pd.read_csv(\"real_fake_sample.csv\")\n",
    "df.head()"
   ]
  },
  {
   "cell_type": "code",
   "execution_count": 57,
   "id": "d24bb3bb-2d5c-4b02-8d25-259705ab4bff",
   "metadata": {},
   "outputs": [],
   "source": [
    "df.drop_duplicates(inplace = True)"
   ]
  },
  {
   "cell_type": "markdown",
   "id": "c814b810-8e00-4dba-9301-19f04f412859",
   "metadata": {},
   "source": [
    "**Data Cleaning**"
   ]
  },
  {
   "cell_type": "code",
   "execution_count": 32,
   "id": "29fca833-1b80-46d1-8955-81d7fb524e02",
   "metadata": {},
   "outputs": [],
   "source": [
    "import nltk\n",
    "import re\n",
    "from nltk.corpus import stopwords\n",
    "from nltk.stem import WordNetLemmatizer\n",
    "wnl = WordNetLemmatizer()"
   ]
  },
  {
   "cell_type": "code",
   "execution_count": 60,
   "id": "efdbcd2c-7b96-4d7c-960c-76e3fcc80be9",
   "metadata": {},
   "outputs": [],
   "source": [
    "def title(item):\n",
    "    rf = re.sub(\"[^A-Za-z0-9]\", \" \", item).lower().split()\n",
    "    rf = [wnl.lemmatize(i) for i in rf if not i in set(stopwords.words(\"english\"))]\n",
    "    rf = \" \".join(rf)\n",
    "    rf = rf.split()[:20]\n",
    "    rf = \" \".join(rf).capitalize()\n",
    "    return rf"
   ]
  },
  {
   "cell_type": "code",
   "execution_count": 64,
   "id": "614733b0-173e-41c0-96ac-823b50d08649",
   "metadata": {},
   "outputs": [],
   "source": [
    "def cleaning(item):\n",
    "    rf = re.sub(\"[^A-Za-z0-9]\", \" \", item).lower().split()\n",
    "    rf = [wnl.lemmatize(i) for i in rf if not i in set(stopwords.words(\"english\"))]\n",
    "    rf = \" \".join(rf)\n",
    "    return rf"
   ]
  },
  {
   "cell_type": "code",
   "execution_count": 61,
   "id": "70f08d3c-1084-45b6-9bbe-b64fe0c9fd0f",
   "metadata": {},
   "outputs": [],
   "source": [
    "df[\"Title\"] = df[\"Text\"].apply(title)"
   ]
  },
  {
   "cell_type": "code",
   "execution_count": 65,
   "id": "a714a1ac-09d7-4223-a240-1d2ff6079ab9",
   "metadata": {},
   "outputs": [],
   "source": [
    "df[\"Clean_Text\"] = df[\"Text\"].apply(cleaning)"
   ]
  },
  {
   "cell_type": "code",
   "execution_count": 68,
   "id": "56b321a3-1aaa-4477-b1e3-8ac70062e205",
   "metadata": {},
   "outputs": [],
   "source": [
    "from sklearn.feature_extraction.text import TfidfVectorizer\n",
    "tfidf = TfidfVectorizer()\n",
    "feature_vectors = tfidf.fit_transform(df[\"Clean_Text\"])"
   ]
  },
  {
   "cell_type": "code",
   "execution_count": 70,
   "id": "3a92105c-26d8-47ed-be25-cb724e8cfa02",
   "metadata": {},
   "outputs": [],
   "source": [
    "from sklearn.metrics.pairwise import cosine_similarity\n",
    "similarity = cosine_similarity(feature_vectors)"
   ]
  },
  {
   "cell_type": "code",
   "execution_count": 201,
   "id": "964f2e1e-478b-48f0-b021-041a7b6587a2",
   "metadata": {},
   "outputs": [],
   "source": [
    "r = df[\"Title\"].str.split().apply(lambda x : x[:4])\n",
    "df[\"Keywords\"] = r.apply(lambda x: \" \".join(x))"
   ]
  },
  {
   "cell_type": "code",
   "execution_count": 202,
   "id": "c4cd245b-1425-4986-9eb1-e1b43c148b4f",
   "metadata": {},
   "outputs": [],
   "source": [
    "list_of_all_titles = df[\"Keywords\"].tolist()"
   ]
  },
  {
   "cell_type": "markdown",
   "id": "32c7333d-19e6-4daf-8994-35dad4e20631",
   "metadata": {},
   "source": [
    "# Movie Name"
   ]
  },
  {
   "cell_type": "code",
   "execution_count": 203,
   "id": "b47944ea-ccad-424f-aeca-0e6bc72d7248",
   "metadata": {},
   "outputs": [
    {
     "name": "stdin",
     "output_type": "stream",
     "text": [
      "Enter donald trump china russia\n"
     ]
    },
    {
     "name": "stdout",
     "output_type": "stream",
     "text": [
      "News Suggested on these topics :\n",
      "0 . Donald trump whine swears\n",
      "1 . Trump team allegedly offering\n",
      "2 . Trump say senate passed\n",
      "3 . New hampshire cop intent\n",
      "4 . Trump try throw michelle\n",
      "5 . Watch joe biden took\n",
      "6 . Report priebus withdraws plan\n",
      "7 . U senator introduce bill\n",
      "8 . Something weird nearly half\n",
      "9 . Snowflake trump kick campaign\n"
     ]
    }
   ],
   "source": [
    "name = input(\"Enter\")\n",
    "\n",
    "try:\n",
    "    \n",
    "    import difflib\n",
    "    find_close_match = difflib.get_close_matches(name, list_of_all_titles)\n",
    "\n",
    "    close_match = find_close_match[0]\n",
    "    \n",
    "    \n",
    "    index_of_news = df[df[\"Keywords\"] == close_match].index[0]\n",
    "    \n",
    "    similarity_score = enumerate(similarity[index_of_news])\n",
    "    \n",
    "    sorted_news = sorted(similarity_score, key = lambda x : x[1], reverse = True)\n",
    "    \n",
    "    print(\"News Suggested on these topics :\")\n",
    "    \n",
    "    i = 0\n",
    "    \n",
    "    for m in sorted_news:\n",
    "        index = m[0]\n",
    "        title_from_index = df[df.index == index][\"Keywords\"].values[0]\n",
    "        # title_from_index = df[df.index == index][\"Title\"].values[0]\n",
    "        if (i <= 10):\n",
    "            print(i, \".\", title_from_index)\n",
    "            i += 1\n",
    "        if i == 10:\n",
    "            break\n",
    "            \n",
    "except IndexError:\n",
    "    extra_list = ['Fake Watch bill maher hilariously',\n",
    "     'Real China defends ally pakistan',\n",
    "     'Fake Trudeau trump call white',\n",
    "     'Fake Watch trump crudely humiliated',\n",
    "     'Real U lawmaker seek looser',\n",
    "     'Fake Trump suggests banning moderator',\n",
    "     'Fake Fox news host jesse',\n",
    "     'Real Trump hold town hall',\n",
    "     'Real Senate republican complain chaos',\n",
    "     'Real Deputy attorney general seek']\n",
    "\n",
    "    import difflib\n",
    "    import random\n",
    "    find_close_match = difflib.get_close_matches(random.choice(extra_list), list_of_all_titles)\n",
    "\n",
    "    close_match = find_close_match[0]\n",
    "    \n",
    "    \n",
    "    index_of_news = df[df[\"Keywords\"] == close_match].index[0]\n",
    "    \n",
    "    similarity_score = enumerate(similarity[index_of_news])\n",
    "    \n",
    "    sorted_news = sorted(similarity_score, key = lambda x : x[1], reverse = True)\n",
    "    \n",
    "    print(\"News Suggested on these topics :\")\n",
    "    \n",
    "    i = 0\n",
    "    \n",
    "    for m in sorted_news:\n",
    "        index = m[0]\n",
    "        title_from_index = df[df.index == index][\"Keywords\"].values[0]\n",
    "        # title_from_index = df[df.index == index][\"Title\"].values[0]\n",
    "        if (i <= 10):\n",
    "            print(i, \".\", title_from_index)\n",
    "            i += 1\n",
    "        if i == 10:\n",
    "            break"
   ]
  },
  {
   "cell_type": "code",
   "execution_count": 205,
   "id": "694dda8e-33da-4082-b3bc-df9bc61b125c",
   "metadata": {},
   "outputs": [],
   "source": [
    "import pickle\n",
    "with open(\"news_vectorizer\", \"wb\") as f:\n",
    "    pickle.dump(tfidf, f)\n",
    "\n",
    "with open(\"news_cosine_similarity\", \"wb\") as f:\n",
    "    pickle.dump(similarity, f)"
   ]
  },
  {
   "cell_type": "code",
   "execution_count": 206,
   "id": "3a8466cd-7720-4f82-ae7a-9d6ccfcf67d8",
   "metadata": {},
   "outputs": [],
   "source": [
    "df.to_csv(\"news_recommendation.csv\", index = [0])"
   ]
  },
  {
   "cell_type": "code",
   "execution_count": null,
   "id": "b1d35210-ab30-4fdb-b429-3a65d91dd7c2",
   "metadata": {},
   "outputs": [],
   "source": []
  }
 ],
 "metadata": {
  "kernelspec": {
   "display_name": "Python 3 (ipykernel)",
   "language": "python",
   "name": "python3"
  },
  "language_info": {
   "codemirror_mode": {
    "name": "ipython",
    "version": 3
   },
   "file_extension": ".py",
   "mimetype": "text/x-python",
   "name": "python",
   "nbconvert_exporter": "python",
   "pygments_lexer": "ipython3",
   "version": "3.11.5"
  }
 },
 "nbformat": 4,
 "nbformat_minor": 5
}
